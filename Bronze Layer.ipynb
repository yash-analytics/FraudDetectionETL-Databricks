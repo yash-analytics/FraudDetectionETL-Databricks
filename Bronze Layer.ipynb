{
 "cells": [
  {
   "cell_type": "code",
   "execution_count": 0,
   "metadata": {
    "application/vnd.databricks.v1+cell": {
     "cellMetadata": {
      "byteLimit": 2048000,
      "rowLimit": 10000
     },
     "inputWidgets": {},
     "nuid": "09c212a5-9dd1-483e-8f5c-a2b15813c089",
     "showTitle": false,
     "title": ""
    }
   },
   "outputs": [],
   "source": [
    "# Importing libraries\n",
    "from pyspark.sql import SparkSession\n",
    "from pyspark.sql.functions import col, regexp_replace\n",
    "from pyspark.sql.types import StructType, StructField, StringType, FloatType, IntegerType, LongType\n",
    "import urllib"
   ]
  },
  {
   "cell_type": "code",
   "execution_count": 0,
   "metadata": {
    "application/vnd.databricks.v1+cell": {
     "cellMetadata": {
      "byteLimit": 2048000,
      "rowLimit": 10000
     },
     "inputWidgets": {},
     "nuid": "e72467dd-7e7a-4923-8e83-250ef4300b8a",
     "showTitle": false,
     "title": ""
    }
   },
   "outputs": [],
   "source": [
    "# Initialize Spark Session \n",
    "\n",
    "spark = SparkSession.builder \\\n",
    "    .appName(\"Bronze Layer\") \\\n",
    "    .getOrCreate()"
   ]
  },
  {
   "cell_type": "code",
   "execution_count": 0,
   "metadata": {
    "application/vnd.databricks.v1+cell": {
     "cellMetadata": {
      "byteLimit": 2048000,
      "rowLimit": 10000
     },
     "inputWidgets": {},
     "nuid": "988e30f8-8861-4878-8863-42478c740a26",
     "showTitle": false,
     "title": ""
    }
   },
   "outputs": [],
   "source": [
    "ACCESS_KEY=dbutils.secrets.get(\"aws\", \"aws_access_key\")\n",
    "SECRET_KEY= dbutils.secrets.get(\"aws\", \"aws_secret_access_key\")"
   ]
  },
  {
   "cell_type": "code",
   "execution_count": 0,
   "metadata": {
    "application/vnd.databricks.v1+cell": {
     "cellMetadata": {
      "byteLimit": 2048000,
      "rowLimit": 10000
     },
     "inputWidgets": {},
     "nuid": "1a170a1a-fb3a-4c0a-84cc-a2e7ebecbc9b",
     "showTitle": false,
     "title": ""
    }
   },
   "outputs": [],
   "source": [
    "ENCODED_SECRET_KEY = urllib.parse.quote(string=SECRET_KEY, safe=\"\")"
   ]
  },
  {
   "cell_type": "code",
   "execution_count": 0,
   "metadata": {
    "application/vnd.databricks.v1+cell": {
     "cellMetadata": {
      "byteLimit": 2048000,
      "rowLimit": 10000
     },
     "inputWidgets": {},
     "nuid": "944ba274-f1c6-4c73-af70-3cabee65baff",
     "showTitle": false,
     "title": ""
    }
   },
   "outputs": [],
   "source": [
    "%run ./_resources/01-load-data"
   ]
  },
  {
   "cell_type": "code",
   "execution_count": 0,
   "metadata": {
    "application/vnd.databricks.v1+cell": {
     "cellMetadata": {
      "byteLimit": 2048000,
      "rowLimit": 10000
     },
     "inputWidgets": {},
     "nuid": "00fe49ae-a2e7-4cef-b9c6-4ed436d6745e",
     "showTitle": false,
     "title": ""
    },
    "jupyter": {
     "outputs_hidden": true
    }
   },
   "outputs": [
    {
     "output_type": "execute_result",
     "data": {
      "text/plain": [
       "True"
      ]
     },
     "execution_count": 75,
     "metadata": {},
     "output_type": "execute_result"
    }
   ],
   "source": [
    "AWS_S3_BUCKET = \"frauddetection-etl\"\n",
    "\n",
    "# Mount name for the bucket\n",
    "MOUNT_NAME = \"/mnt/frauddetection-etl\"\n",
    "# Source url\n",
    "SOURCE_URL = \"s3n://{0}:{1}@{2}\".format(ACCESS_KEY, ENCODED_SECRET_KEY, AWS_S3_BUCKET)\n",
    "# Mount the drive\n",
    "dbutils.fs.mount(SOURCE_URL, MOUNT_NAME)"
   ]
  },
  {
   "cell_type": "code",
   "execution_count": 0,
   "metadata": {
    "application/vnd.databricks.v1+cell": {
     "cellMetadata": {
      "byteLimit": 2048000,
      "rowLimit": 10000
     },
     "inputWidgets": {},
     "nuid": "1c75385f-589e-4dd3-af12-c91ff82d0811",
     "showTitle": false,
     "title": ""
    }
   },
   "outputs": [
    {
     "output_type": "execute_result",
     "data": {
      "text/plain": [
       "[FileInfo(path='dbfs:/mnt/frauddetection-etl/bronze/', name='bronze/', size=0, modificationTime=1715796237491),\n",
       " FileInfo(path='dbfs:/mnt/frauddetection-etl/gold/', name='gold/', size=0, modificationTime=1715796237491),\n",
       " FileInfo(path='dbfs:/mnt/frauddetection-etl/silver/', name='silver/', size=0, modificationTime=1715796237491)]"
      ]
     },
     "execution_count": 76,
     "metadata": {},
     "output_type": "execute_result"
    }
   ],
   "source": [
    "dbutils.fs.ls(\"/mnt/frauddetection-etl/\")"
   ]
  },
  {
   "cell_type": "code",
   "execution_count": 0,
   "metadata": {
    "application/vnd.databricks.v1+cell": {
     "cellMetadata": {
      "byteLimit": 2048000,
      "rowLimit": 10000
     },
     "inputWidgets": {},
     "nuid": "46725a96-0d6d-4ed8-a360-0f6ebbe875ba",
     "showTitle": false,
     "title": ""
    }
   },
   "outputs": [
    {
     "output_type": "stream",
     "name": "stdout",
     "output_type": "stream",
     "text": [
      "data already existing. Run with reset_all_data=true to force a data cleanup for your local demo.\n"
     ]
    }
   ],
   "source": [
    "BRONZE_PATH = \"/mnt/frauddetection-etl/bronze\""
   ]
  },
  {
   "cell_type": "code",
   "execution_count": 0,
   "metadata": {
    "application/vnd.databricks.v1+cell": {
     "cellMetadata": {
      "byteLimit": 2048000,
      "rowLimit": 10000
     },
     "inputWidgets": {},
     "nuid": "4aa3ba78-000b-4362-860e-cd2843c04709",
     "showTitle": false,
     "title": ""
    }
   },
   "outputs": [],
   "source": [
    "# Define Schema for Data\n",
    "\n",
    "# Schema for transactions data\n",
    "transaction_schema = StructType([\n",
    "    StructField(\"amount\", StringType(), True),\n",
    "    StructField(\"countryDest\", StringType(), True),\n",
    "    StructField(\"countryOrig\", StringType(), True),\n",
    "    StructField(\"customer_id\", StringType(), True),\n",
    "    StructField(\"id\", StringType(), True),\n",
    "    StructField(\"isUnauthorizedOverdraft\", IntegerType(), True),\n",
    "    StructField(\"nameDest\", StringType(), True),\n",
    "    StructField(\"nameOrig\", StringType(), True),\n",
    "    StructField(\"newBalanceDest\", StringType(), True),\n",
    "    StructField(\"newBalanceOrig\", StringType(), True),\n",
    "    StructField(\"oldBalanceDest\", StringType(), True),\n",
    "    StructField(\"oldBalanceOrig\", StringType(), True),\n",
    "    StructField(\"step\", StringType(), True),\n",
    "    StructField(\"type\", StringType(), True)\n",
    "])\n",
    "\n",
    "# Schema for fraud reports\n",
    "fraud_schema = StructType([\n",
    "    StructField(\"is_fraud\", IntegerType(), True),\n",
    "    StructField(\"id\", StringType(), True)\n",
    "])\n"
   ]
  },
  {
   "cell_type": "code",
   "execution_count": 0,
   "metadata": {
    "application/vnd.databricks.v1+cell": {
     "cellMetadata": {
      "byteLimit": 2048000,
      "rowLimit": 10000
     },
     "inputWidgets": {},
     "nuid": "2d1efe3b-65be-4631-9506-844874561e85",
     "showTitle": false,
     "title": ""
    }
   },
   "outputs": [],
   "source": [
    "# Load transaction data\n",
    "transactions_df = spark.read.format(\"json\").schema(transaction_schema).load(\"/dbdemos/fsi/fraud-detection/transactions\")\n",
    "\n",
    "# Load fraud report data\n",
    "fraud_reports_df = spark.read.format(\"csv\").schema(fraud_schema).option(\"header\", \"true\").load(\"/dbdemos/fsi/fraud-detection/customers\")\n",
    "\n",
    "# Ensure immutability by writing in append mode\n",
    "transactions_df.write.format(\"delta\").mode(\"append\").save(\"{}/transactions\".format(BRONZE_PATH))\n",
    "fraud_reports_df.write.format(\"delta\").mode(\"append\").save(\"{}/fraud_reports\".format(BRONZE_PATH))"
   ]
  },
  {
   "cell_type": "code",
   "execution_count": 0,
   "metadata": {
    "application/vnd.databricks.v1+cell": {
     "cellMetadata": {
      "byteLimit": 2048000,
      "rowLimit": 10000
     },
     "inputWidgets": {},
     "nuid": "60bfe5ae-cf53-46de-b33b-7401014022b3",
     "showTitle": false,
     "title": ""
    }
   },
   "outputs": [
    {
     "output_type": "execute_result",
     "data": {
      "text/plain": [
       "DataFrame[]"
      ]
     },
     "execution_count": 80,
     "metadata": {},
     "output_type": "execute_result"
    }
   ],
   "source": [
    "# Create the schema if it doesn't exist\n",
    "spark.sql(\"CREATE SCHEMA IF NOT EXISTS bronze\")\n",
    "\n",
    "# Set the current schema\n",
    "spark.sql(\"USE bronze\")\n",
    "\n",
    "# Register the external tables\n",
    "spark.sql(\"\"\"\n",
    "CREATE EXTERNAL TABLE IF NOT EXISTS transactions\n",
    "USING delta\n",
    "LOCATION 's3://frauddetection-etl/bronze/transactions/'\n",
    "\"\"\")\n",
    "\n",
    "spark.sql(\"\"\"\n",
    "CREATE EXTERNAL TABLE IF NOT EXISTS fraud_reports\n",
    "USING delta\n",
    "LOCATION 's3://frauddetection-etl/bronze/fraud_reports/'\n",
    "\"\"\")"
   ]
  },
  {
   "cell_type": "code",
   "execution_count": 0,
   "metadata": {
    "application/vnd.databricks.v1+cell": {
     "cellMetadata": {
      "byteLimit": 2048000,
      "rowLimit": 10000
     },
     "inputWidgets": {},
     "nuid": "95668308-dc6d-49c4-8487-2433d09c434c",
     "showTitle": false,
     "title": ""
    }
   },
   "outputs": [
    {
     "output_type": "stream",
     "name": "stdout",
     "output_type": "stream",
     "text": [
      "+---------+-----------+-----------+--------------------+--------------------+-----------------------+------------+-----------+--------------+--------------+--------------+--------------+----+--------+\n|   amount|countryDest|countryOrig|         customer_id|                  id|isUnauthorizedOverdraft|    nameDest|   nameOrig|newBalanceDest|newBalanceOrig|oldBalanceDest|oldBalanceOrig|step|    type|\n+---------+-----------+-----------+--------------------+--------------------+-----------------------+------------+-----------+--------------+--------------+--------------+--------------+----+--------+\n| 10452.98|        REU|        REU|a0e67d95-b19d-487...|9db8db71-126b-4fe...|                      0| M3479766470|C9695372314|     363539.07|      67009.83|     353086.09|      77462.82| 146| PAYMENT|\n| 11230.51|        BRA|        TUR|0796aa96-5c08-4d3...|30f56e89-0e4e-4eb...|                      0| M9181931898|C2700694787|    1314521.73|    1973961.84|    1303291.22|    1985192.36| 420| PAYMENT|\n| 56785.09|        PER|        NGA|2be9f20b-bbea-4c9...|1648df20-00d8-419...|                      0| M0176036610|C3313804954|    1128137.15|    3212251.33|    1128137.15|    3155466.24| 397| CASH_IN|\n|138363.92|        ESP|        TUR|c0caba63-6417-4ae...|a6196273-0fef-429...|                      0|CC4051797577|C6163823071|    1623513.54|    2834179.85|    1485149.62|    2972543.77| 534|TRANSFER|\n|  9964.49|        KHM|        ESP|86ad11b2-6078-4e0...|8856e87d-5337-4bd...|                      0| M6687722314|C6163823071|     311219.84|    2601554.43|     301255.35|    2611518.92| 120| PAYMENT|\n| 43024.06|        KHM|        PER|7d87e87b-8096-4d5...|be439b33-31b9-44a...|                      0| M5839610521|C3818837772|    1558174.86|     2560863.2|    1558174.86|    2603887.26| 458|CASH_OUT|\n| 206063.3|        ITA|        BRA|4c018f7d-fe58-40d...|ba8a935d-5bad-4f2...|                      0| M1252943667|C7608185327|     953701.78|    3800276.97|     953701.78|    3594213.67| 372| CASH_IN|\n|143799.03|        ITA|        ITA|11427c68-cff8-445...|b226e9ba-ca13-445...|                      0| M0212355800|C8803063893|    1686344.27|    3120901.66|    1686344.27|    2977102.62| 458| CASH_IN|\n|  2922.41|        QAT|        PAN|54bfe0a9-c541-4a4...|386ea42a-80ef-4d4...|                      0| M9196520099|C5917719254|      873088.6|    2021895.04|     870166.19|    2024817.46| 303| PAYMENT|\n|    86.26|        REU|        CAN|582befb4-9d33-4fb...|3ab050ef-66a5-4ab...|                      0| M0382138230|C8081941004|      48211.31|    1134653.95|      48125.04|    1134740.21|  26| PAYMENT|\n| 27326.29|        PER|        KHM|ba27d36a-62d7-462...|0364c38a-d607-41f...|                      0| M3386355586|C0055519039|    1199676.92|    2921474.02|    1199676.92|    2894147.73| 404| CASH_IN|\n|240965.84|        RUS|        CAN|430f748f-895a-4e2...|569f40a2-a1a4-415...|                      0| M0376783400|C5751537590|     984381.16|    3093831.43|     984381.16|    2852865.59| 286| CASH_IN|\n|120456.82|        RUS|        RUS|976ba8c1-8d96-4d9...|9957b087-eb78-4e5...|                      0| M7463627110|C6736438216|     674911.39|    2889104.87|     674911.39|    2768648.06| 263| CASH_IN|\n|259187.14|        NGA|        ESP|f0eed7bc-b1b5-49c...|7e5c115c-6734-49a...|                      0| M6763784564|C9058554966|    1807345.06|    3337168.54|    1807345.06|    3596355.68| 540|CASH_OUT|\n|   9274.5|        KHM|        KHM|0216535f-58bb-4ae...|2092218c-c58f-476...|                      0| M6699019483|C5398111362|     233284.74|     3129833.6|     224010.25|     3139108.1| 136| PAYMENT|\n|126198.76|        ITA|        ESP|34ad12d6-0e96-47c...|8fc33910-ec0d-4e8...|                      0| M4177241246|C1414225079|     295148.43|    3778386.57|     295148.43|    3652187.81| 146| CASH_IN|\n|  6015.84|        RUS|        REU|af52d55b-2b8b-444...|6f2a3785-9ab4-4e7...|                      0| M6990018873|C8143431685|    1869194.46|    2476538.76|    1863178.62|     2482554.6| 527| PAYMENT|\n| 117470.2|        REU|        TUR|7bbc9460-061b-444...|1826ffe4-dfda-46d...|                      0| C3189790757|C0545294868|    2738892.33|    3378654.57|    2621422.13|    3496124.77| 540|TRANSFER|\n|  37147.7|        ESP|        BRA|e1836506-9fd0-4aa...|fd7d5bad-0af5-409...|                      0| M3007137876|C2595471818|     688112.64|    1645744.24|     688112.64|    1608596.54| 236| CASH_IN|\n|132118.69|        QAT|        PAN|82bc2ab0-278a-433...|5cf4caa4-8926-41a...|                      0| M6179205089|C4357151101|     786388.28|    1977389.61|     786388.28|    1845270.92| 304| CASH_IN|\n+---------+-----------+-----------+--------------------+--------------------+-----------------------+------------+-----------+--------------+--------------+--------------+--------------+----+--------+\nonly showing top 20 rows\n\n"
     ]
    }
   ],
   "source": [
    "# Showing written data\n",
    "transactions_df_output = spark.sql(\"SELECT * FROM bronze.transactions\")\n",
    "transactions_df_output.show()"
   ]
  },
  {
   "cell_type": "code",
   "execution_count": 0,
   "metadata": {
    "application/vnd.databricks.v1+cell": {
     "cellMetadata": {
      "byteLimit": 2048000,
      "rowLimit": 10000
     },
     "inputWidgets": {},
     "nuid": "180b520c-7f17-4812-9fcf-a9263aac8c9a",
     "showTitle": false,
     "title": ""
    }
   },
   "outputs": [
    {
     "output_type": "stream",
     "name": "stdout",
     "output_type": "stream",
     "text": [
      "+--------+----------+\n|is_fraud|        id|\n+--------+----------+\n|    NULL|     Scott|\n|    NULL| AS 11135\"|\n|    NULL|    Harris|\n|    NULL| AS 71707\"|\n|    NULL|   Simmons|\n|    NULL| CA 58536\"|\n|    NULL|     Cowan|\n|    NULL| LA 08082\"|\n|    NULL|   Holland|\n|    NULL| TX 78165\"|\n|    NULL|      Neal|\n|    NULL| NE 01419\"|\n|    NULL|   Merritt|\n|    NULL|       SVK|\n|    NULL|   Rollins|\n|    NULL|       DMA|\n|    NULL|     Blair|\n|    NULL| MO 59027\"|\n|    NULL|      Ball|\n|    NULL| IN 30277\"|\n+--------+----------+\nonly showing top 20 rows\n\n"
     ]
    }
   ],
   "source": [
    "# Showing written data\n",
    "fraud_reports_df_output = spark.sql(\"SELECT * FROM bronze.fraud_reports\")\n",
    "fraud_reports_df_output.show()"
   ]
  },
  {
   "cell_type": "code",
   "execution_count": 0,
   "metadata": {
    "application/vnd.databricks.v1+cell": {
     "cellMetadata": {
      "byteLimit": 2048000,
      "rowLimit": 10000
     },
     "inputWidgets": {},
     "nuid": "6b9233f9-72d2-46ca-a5a6-b61e1b77bb2f",
     "showTitle": false,
     "title": ""
    }
   },
   "outputs": [
    {
     "output_type": "execute_result",
     "data": {
      "text/plain": [
       "DataFrame[]"
      ]
     },
     "execution_count": 1,
     "metadata": {},
     "output_type": "execute_result"
    }
   ],
   "source": [
    "# spark.sql(\"DROP SCHEMA IF EXISTS bronze CASCADE\")"
   ]
  },
  {
   "cell_type": "code",
   "execution_count": 0,
   "metadata": {
    "application/vnd.databricks.v1+cell": {
     "cellMetadata": {
      "byteLimit": 2048000,
      "rowLimit": 10000
     },
     "inputWidgets": {},
     "nuid": "f8abb7be-470d-428e-8e73-ad6ea1816b13",
     "showTitle": false,
     "title": ""
    }
   },
   "outputs": [],
   "source": [
    "# dbutils.fs.unmount(\"/mnt/frauddetection-etl\")"
   ]
  }
 ],
 "metadata": {
  "application/vnd.databricks.v1+notebook": {
   "dashboards": [],
   "environmentMetadata": null,
   "language": "python",
   "notebookMetadata": {
    "pythonIndentUnit": 4
   },
   "notebookName": "Bronze Layer",
   "widgets": {}
  }
 },
 "nbformat": 4,
 "nbformat_minor": 0
}
