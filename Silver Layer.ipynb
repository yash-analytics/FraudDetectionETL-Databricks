{
 "cells": [
  {
   "cell_type": "code",
   "execution_count": 0,
   "metadata": {
    "application/vnd.databricks.v1+cell": {
     "cellMetadata": {
      "byteLimit": 2048000,
      "rowLimit": 10000
     },
     "inputWidgets": {},
     "nuid": "88b9d8b1-d268-40ef-ad4c-ca6ded49f6c7",
     "showTitle": false,
     "title": ""
    }
   },
   "outputs": [],
   "source": [
    "from pyspark.sql import SparkSession\n",
    "from pyspark.sql.functions import col, regexp_replace, regexp_extract\n",
    "from pyspark.sql.types import StructType, StructField, StringType, FloatType, IntegerType, LongType\n",
    "import urllib"
   ]
  },
  {
   "cell_type": "code",
   "execution_count": 0,
   "metadata": {
    "application/vnd.databricks.v1+cell": {
     "cellMetadata": {
      "byteLimit": 2048000,
      "rowLimit": 10000
     },
     "inputWidgets": {},
     "nuid": "35d374c1-7a91-4d91-8add-c6cf76569ea5",
     "showTitle": false,
     "title": ""
    }
   },
   "outputs": [],
   "source": [
    "# Initialize Spark Session\n",
    "spark = SparkSession.builder.appName(\"Silver Layer\").getOrCreate()"
   ]
  },
  {
   "cell_type": "code",
   "execution_count": 0,
   "metadata": {
    "application/vnd.databricks.v1+cell": {
     "cellMetadata": {
      "byteLimit": 2048000,
      "rowLimit": 10000
     },
     "inputWidgets": {},
     "nuid": "9d95d724-0c5b-498f-8b48-835ccc8408da",
     "showTitle": false,
     "title": ""
    }
   },
   "outputs": [],
   "source": [
    "# ACCESS_KEY=dbutils.secrets.get(\"aws\", \"aws_access_key\")\n",
    "# SECRET_KEY= dbutils.secrets.get(\"aws\", \"aws_secret_access_key\")"
   ]
  },
  {
   "cell_type": "code",
   "execution_count": 0,
   "metadata": {
    "application/vnd.databricks.v1+cell": {
     "cellMetadata": {
      "byteLimit": 2048000,
      "rowLimit": 10000
     },
     "inputWidgets": {},
     "nuid": "08ced68d-2519-49b8-b4ed-907decb3da3a",
     "showTitle": false,
     "title": ""
    }
   },
   "outputs": [],
   "source": [
    "# ENCODED_SECRET_KEY = urllib.parse.quote(string=SECRET_KEY, safe=\"\")"
   ]
  },
  {
   "cell_type": "code",
   "execution_count": 0,
   "metadata": {
    "application/vnd.databricks.v1+cell": {
     "cellMetadata": {
      "byteLimit": 2048000,
      "rowLimit": 10000
     },
     "inputWidgets": {},
     "nuid": "43a79f8d-a547-4f48-a387-b836c8a12a1b",
     "showTitle": false,
     "title": ""
    }
   },
   "outputs": [],
   "source": [
    "# AWS_S3_BUCKET = \"frauddetection-etl\"\n",
    "\n",
    "# # Mount name for the bucket\n",
    "# MOUNT_NAME = \"/mnt/frauddetection-etl\"\n",
    "# # Source url\n",
    "# SOURCE_URL = \"s3n://{0}:{1}@{2}\".format(ACCESS_KEY, ENCODED_SECRET_KEY, AWS_S3_BUCKET)\n",
    "# # Mount the drive\n",
    "# dbutils.fs.mount(SOURCE_URL, MOUNT_NAME)"
   ]
  },
  {
   "cell_type": "code",
   "execution_count": 0,
   "metadata": {
    "application/vnd.databricks.v1+cell": {
     "cellMetadata": {
      "byteLimit": 2048000,
      "rowLimit": 10000
     },
     "inputWidgets": {},
     "nuid": "c9f51f58-9a51-41f7-813f-00e1ed091ae4",
     "showTitle": false,
     "title": ""
    }
   },
   "outputs": [],
   "source": [
    "# Set silver path\n",
    "SILVER_PATH = \"/mnt/frauddetection-etl/silver\""
   ]
  },
  {
   "cell_type": "code",
   "execution_count": 0,
   "metadata": {
    "application/vnd.databricks.v1+cell": {
     "cellMetadata": {
      "byteLimit": 2048000,
      "rowLimit": 10000
     },
     "inputWidgets": {},
     "nuid": "6b2ce4c9-89aa-42a3-8750-3355b8334d97",
     "showTitle": false,
     "title": ""
    }
   },
   "outputs": [],
   "source": [
    "# Read the transactions data from the external table\n",
    "transactions_df = spark.sql(\"SELECT * FROM bronze.transactions\")\n",
    "\n",
    "# Read the fraud reports data from the external table\n",
    "fraud_reports_df = spark.sql(\"SELECT * FROM bronze.fraud_reports\")"
   ]
  },
  {
   "cell_type": "code",
   "execution_count": 0,
   "metadata": {
    "application/vnd.databricks.v1+cell": {
     "cellMetadata": {
      "byteLimit": 2048000,
      "rowLimit": 10000
     },
     "inputWidgets": {},
     "nuid": "10a2bc30-9af5-4e21-bb6a-caf7650e9b75",
     "showTitle": false,
     "title": ""
    }
   },
   "outputs": [],
   "source": [
    "# Define schemas\n",
    "customer_schema = StructType([\n",
    "    StructField(\"firstname\", StringType(), True),\n",
    "    StructField(\"lastname\", StringType(), True),\n",
    "    StructField(\"email\", StringType(), True),\n",
    "    StructField(\"address\", StringType(), True),\n",
    "    StructField(\"country\", StringType(), True),\n",
    "    StructField(\"last_country_logged\", StringType(), True),\n",
    "    StructField(\"creation_date\", StringType(), True),\n",
    "    StructField(\"last_activity_date\", StringType(), True),\n",
    "    StructField(\"age_group\", StringType(), True),\n",
    "    StructField(\"id\", StringType(), True)\n",
    "])\n",
    "\n",
    "country_schema = StructType([\n",
    "    StructField(\"country\", StringType(), True),\n",
    "    StructField(\"alpha2_code\", StringType(), True),\n",
    "    StructField(\"alpha3_code\", StringType(), True),\n",
    "    StructField(\"numeric_code\", LongType(), True),\n",
    "    StructField(\"lat_avg\", FloatType(), True),\n",
    "    StructField(\"long_avg\", FloatType(), True)\n",
    "])"
   ]
  },
  {
   "cell_type": "code",
   "execution_count": 0,
   "metadata": {
    "application/vnd.databricks.v1+cell": {
     "cellMetadata": {
      "byteLimit": 2048000,
      "rowLimit": 10000
     },
     "inputWidgets": {},
     "nuid": "27fc1199-ce1a-4979-998b-dfe4ff35aed5",
     "showTitle": false,
     "title": ""
    }
   },
   "outputs": [],
   "source": [
    "# Reading banking and Country data\n",
    "banking_customers_df = spark.read.format(\"csv\").schema(customer_schema).load('/dbdemos/fsi/fraud-detection/customers', header=True, multiLine=True)\n",
    "country_coordinates_df = spark.read.format(\"csv\").schema(country_schema).load(\"/dbdemos/fsi/fraud-detection/country_code\")"
   ]
  },
  {
   "cell_type": "code",
   "execution_count": 0,
   "metadata": {
    "application/vnd.databricks.v1+cell": {
     "cellMetadata": {
      "byteLimit": 2048000,
      "rowLimit": 10000
     },
     "inputWidgets": {},
     "nuid": "6b54a776-b855-4af1-9de0-970b34420622",
     "showTitle": false,
     "title": ""
    }
   },
   "outputs": [
    {
     "output_type": "stream",
     "name": "stdout",
     "output_type": "stream",
     "text": [
      "root\n |-- firstname: string (nullable = true)\n |-- lastname: string (nullable = true)\n |-- email: string (nullable = true)\n |-- address: string (nullable = true)\n |-- country: string (nullable = true)\n |-- last_country_logged: string (nullable = true)\n |-- creation_date: string (nullable = true)\n |-- last_activity_date: string (nullable = true)\n |-- age_group: string (nullable = true)\n |-- id: string (nullable = true)\n\n"
     ]
    }
   ],
   "source": [
    "banking_customers_df.printSchema()"
   ]
  },
  {
   "cell_type": "code",
   "execution_count": 0,
   "metadata": {
    "application/vnd.databricks.v1+cell": {
     "cellMetadata": {
      "byteLimit": 2048000,
      "rowLimit": 10000
     },
     "inputWidgets": {},
     "nuid": "7c443571-4090-4789-b011-217875daabc9",
     "showTitle": false,
     "title": ""
    }
   },
   "outputs": [],
   "source": [
    "# Data transformations and cleaning\n",
    "\n",
    "# Clean fraud data\n",
    "fraud_reports_df = fraud_reports_df.withColumn(\"cleaned_id\", regexp_extract(col(\"id\"), r\"([A-Z]{2}\\s\\d+)\", 0))\n",
    "\n",
    "# Drop the old 'id' column and rename 'cleaned_id' to 'id'\n",
    "fraud_reports_df = fraud_reports_df.drop(\"id\").withColumnRenamed(\"cleaned_id\", \"id\")\n",
    "\n",
    "# Filter to keep only rows where 'id' is not null or empty\n",
    "fraud_reports_df = fraud_reports_df.filter(col(\"id\")!= \"\")\n",
    "\n",
    "# Join Fraud and Transactions \n",
    "transactions_df = transactions_df.join(fraud_reports_df, \"id\", \"left\")\n",
    "\n",
    "# Cleaning Transaction\n",
    "transactions_df = transactions_df.withColumn(\"amount\", col(\"amount\").cast(\"float\"))\n",
    "\n",
    "cleaned_transactions = transactions_df.withColumn(\"countryOrig\", regexp_replace(\"countryOrig\", \"--\", \"\")) \\\n",
    "    .withColumn(\"countryDest\", regexp_replace(\"countryDest\", \"--\", \"\")) \\\n",
    "    .dropna(subset=[\"customer_id\"])\n",
    "\n",
    "# Clean customers data\n",
    "cleaned_banking_customers = banking_customers_df.dropna(subset=[\"email\", \"id\"])\n",
    "\n",
    "# Clean country coordinates\n",
    "cleaned_country_coordinates = country_coordinates_df \\\n",
    "    .withColumn(\"lat_avg\", col(\"lat_avg\").cast(\"float\")) \\\n",
    "    .withColumn(\"long_avg\", col(\"long_avg\").cast(\"float\"))"
   ]
  },
  {
   "cell_type": "code",
   "execution_count": 0,
   "metadata": {
    "application/vnd.databricks.v1+cell": {
     "cellMetadata": {
      "byteLimit": 2048000,
      "rowLimit": 10000
     },
     "inputWidgets": {},
     "nuid": "1ff0ed22-e9d8-4d75-8231-c7de26c8ea37",
     "showTitle": false,
     "title": ""
    }
   },
   "outputs": [
    {
     "output_type": "execute_result",
     "data": {
      "text/plain": [
       "DataFrame[]"
      ]
     },
     "execution_count": 74,
     "metadata": {},
     "output_type": "execute_result"
    }
   ],
   "source": [
    "# Save cleaned data to Silver layer and create external tables#\n",
    "cleaned_transactions.write.format(\"delta\").mode(\"append\").save(f\"{SILVER_PATH}/transactions\")\n",
    "\n",
    "banking_customers_df.write.format(\"delta\").mode(\"append\").save(f\"{SILVER_PATH}/banking_customers\")\n",
    "\n",
    "country_coordinates_df.write.format(\"delta\").mode(\"append\").save(f\"{SILVER_PATH}/country_coordinates\")\n",
    "\n",
    "# Register external tables\n",
    "spark.sql(\"CREATE SCHEMA IF NOT EXISTS silver\")\n",
    "\n",
    "# Set the current schema\n",
    "spark.sql(\"USE silver\")\n",
    "\n",
    "# Register the external tables\n",
    "spark.sql(f\"\"\"\n",
    "CREATE EXTERNAL TABLE IF NOT EXISTS transactions\n",
    "USING delta\n",
    "LOCATION 's3://frauddetection-etl/silver/transactions'\n",
    "\"\"\")\n",
    "\n",
    "spark.sql(f\"\"\"\n",
    "CREATE EXTERNAL TABLE IF NOT EXISTS banking_customers\n",
    "USING delta\n",
    "LOCATION 's3://frauddetection-etl/silver/banking_customers'\n",
    "\"\"\")\n",
    "\n",
    "spark.sql(f\"\"\"\n",
    "CREATE EXTERNAL TABLE IF NOT EXISTS country_coordinates\n",
    "USING delta\n",
    "LOCATION 's3://frauddetection-etl/silver/country_coordinates'\n",
    "\"\"\")"
   ]
  },
  {
   "cell_type": "code",
   "execution_count": 0,
   "metadata": {
    "application/vnd.databricks.v1+cell": {
     "cellMetadata": {
      "byteLimit": 2048000,
      "rowLimit": 10000
     },
     "inputWidgets": {},
     "nuid": "94af06a5-2fc2-4687-9b8a-443b687005dc",
     "showTitle": false,
     "title": ""
    }
   },
   "outputs": [
    {
     "output_type": "stream",
     "name": "stdout",
     "output_type": "stream",
     "text": [
      "+--------------------+---------+-----------+-----------+--------------------+-----------------------+------------+-----------+--------------+--------------+--------------+--------------+----+--------+--------+\n|                  id|   amount|countryDest|countryOrig|         customer_id|isUnauthorizedOverdraft|    nameDest|   nameOrig|newBalanceDest|newBalanceOrig|oldBalanceDest|oldBalanceOrig|step|    type|is_fraud|\n+--------------------+---------+-----------+-----------+--------------------+-----------------------+------------+-----------+--------------+--------------+--------------+--------------+----+--------+--------+\n|9db8db71-126b-4fe...| 10452.98|        REU|        REU|a0e67d95-b19d-487...|                      0| M3479766470|C9695372314|     363539.07|      67009.83|     353086.09|      77462.82| 146| PAYMENT|    NULL|\n|30f56e89-0e4e-4eb...| 11230.51|        BRA|        TUR|0796aa96-5c08-4d3...|                      0| M9181931898|C2700694787|    1314521.73|    1973961.84|    1303291.22|    1985192.36| 420| PAYMENT|    NULL|\n|1648df20-00d8-419...| 56785.09|        PER|        NGA|2be9f20b-bbea-4c9...|                      0| M0176036610|C3313804954|    1128137.15|    3212251.33|    1128137.15|    3155466.24| 397| CASH_IN|    NULL|\n|a6196273-0fef-429...|138363.92|        ESP|        TUR|c0caba63-6417-4ae...|                      0|CC4051797577|C6163823071|    1623513.54|    2834179.85|    1485149.62|    2972543.77| 534|TRANSFER|    NULL|\n|8856e87d-5337-4bd...|  9964.49|        KHM|        ESP|86ad11b2-6078-4e0...|                      0| M6687722314|C6163823071|     311219.84|    2601554.43|     301255.35|    2611518.92| 120| PAYMENT|    NULL|\n|be439b33-31b9-44a...| 43024.06|        KHM|        PER|7d87e87b-8096-4d5...|                      0| M5839610521|C3818837772|    1558174.86|     2560863.2|    1558174.86|    2603887.26| 458|CASH_OUT|    NULL|\n|ba8a935d-5bad-4f2...| 206063.3|        ITA|        BRA|4c018f7d-fe58-40d...|                      0| M1252943667|C7608185327|     953701.78|    3800276.97|     953701.78|    3594213.67| 372| CASH_IN|    NULL|\n|b226e9ba-ca13-445...|143799.03|        ITA|        ITA|11427c68-cff8-445...|                      0| M0212355800|C8803063893|    1686344.27|    3120901.66|    1686344.27|    2977102.62| 458| CASH_IN|    NULL|\n|386ea42a-80ef-4d4...|  2922.41|        QAT|        PAN|54bfe0a9-c541-4a4...|                      0| M9196520099|C5917719254|      873088.6|    2021895.04|     870166.19|    2024817.46| 303| PAYMENT|    NULL|\n|3ab050ef-66a5-4ab...|    86.26|        REU|        CAN|582befb4-9d33-4fb...|                      0| M0382138230|C8081941004|      48211.31|    1134653.95|      48125.04|    1134740.21|  26| PAYMENT|    NULL|\n|0364c38a-d607-41f...| 27326.29|        PER|        KHM|ba27d36a-62d7-462...|                      0| M3386355586|C0055519039|    1199676.92|    2921474.02|    1199676.92|    2894147.73| 404| CASH_IN|    NULL|\n|569f40a2-a1a4-415...|240965.84|        RUS|        CAN|430f748f-895a-4e2...|                      0| M0376783400|C5751537590|     984381.16|    3093831.43|     984381.16|    2852865.59| 286| CASH_IN|    NULL|\n|9957b087-eb78-4e5...|120456.82|        RUS|        RUS|976ba8c1-8d96-4d9...|                      0| M7463627110|C6736438216|     674911.39|    2889104.87|     674911.39|    2768648.06| 263| CASH_IN|    NULL|\n|7e5c115c-6734-49a...|259187.14|        NGA|        ESP|f0eed7bc-b1b5-49c...|                      0| M6763784564|C9058554966|    1807345.06|    3337168.54|    1807345.06|    3596355.68| 540|CASH_OUT|    NULL|\n|2092218c-c58f-476...|   9274.5|        KHM|        KHM|0216535f-58bb-4ae...|                      0| M6699019483|C5398111362|     233284.74|     3129833.6|     224010.25|     3139108.1| 136| PAYMENT|    NULL|\n|8fc33910-ec0d-4e8...|126198.76|        ITA|        ESP|34ad12d6-0e96-47c...|                      0| M4177241246|C1414225079|     295148.43|    3778386.57|     295148.43|    3652187.81| 146| CASH_IN|    NULL|\n|6f2a3785-9ab4-4e7...|  6015.84|        RUS|        REU|af52d55b-2b8b-444...|                      0| M6990018873|C8143431685|    1869194.46|    2476538.76|    1863178.62|     2482554.6| 527| PAYMENT|    NULL|\n|1826ffe4-dfda-46d...| 117470.2|        REU|        TUR|7bbc9460-061b-444...|                      0| C3189790757|C0545294868|    2738892.33|    3378654.57|    2621422.13|    3496124.77| 540|TRANSFER|    NULL|\n|fd7d5bad-0af5-409...|  37147.7|        ESP|        BRA|e1836506-9fd0-4aa...|                      0| M3007137876|C2595471818|     688112.64|    1645744.24|     688112.64|    1608596.54| 236| CASH_IN|    NULL|\n|5cf4caa4-8926-41a...|132118.69|        QAT|        PAN|82bc2ab0-278a-433...|                      0| M6179205089|C4357151101|     786388.28|    1977389.61|     786388.28|    1845270.92| 304| CASH_IN|    NULL|\n+--------------------+---------+-----------+-----------+--------------------+-----------------------+------------+-----------+--------------+--------------+--------------+--------------+----+--------+--------+\nonly showing top 20 rows\n\n"
     ]
    }
   ],
   "source": [
    "# Showing written data\n",
    "transactions_df_output = spark.sql(\"SELECT * FROM silver.transactions\")\n",
    "transactions_df_output.show()"
   ]
  },
  {
   "cell_type": "code",
   "execution_count": 0,
   "metadata": {
    "application/vnd.databricks.v1+cell": {
     "cellMetadata": {
      "byteLimit": 2048000,
      "rowLimit": 10000
     },
     "inputWidgets": {},
     "nuid": "99783231-05ee-4070-a062-fb200fa6d35a",
     "showTitle": false,
     "title": ""
    }
   },
   "outputs": [
    {
     "output_type": "stream",
     "name": "stdout",
     "output_type": "stream",
     "text": [
      "+---------+--------+--------------------+--------------------+-------+-------------------+-------------------+-------------------+---------+--------------------+\n|firstname|lastname|               email|             address|country|last_country_logged|      creation_date| last_activity_date|age_group|                  id|\n+---------+--------+--------------------+--------------------+-------+-------------------+-------------------+-------------------+---------+--------------------+\n| Jonathan|   Scott|jessica82@mitchel...|553 James Fork Su...|    POL|                POL|12-30-2021 00:00:00|03-01-2023 11:52:05|      5.0|f3ec479d-f416-4ef...|\n|    James|  Harris|james86@atkinson.com|3632 Debra Inlet\\...|    GNB|                GNB|07-01-2021 00:00:00|03-02-2023 03:16:40|      5.0|ad794800-ac9a-49d...|\n|   Ronald| Simmons|stevensjulie@good...|86754 Yesenia Inl...|    JPN|                JPN|04-04-2022 00:00:00|03-01-2023 17:17:08|      5.0|b0e7c97f-b6dc-4cc...|\n|    Wendy|   Cowan|dcarrillo@larsen-...|8068 Charles Key ...|    DOM|                DOM|09-21-2022 00:00:00|03-02-2023 12:23:56|      5.0|c14e0027-88d4-4d0...|\n|  Deborah| Holland|zachary62@chavez.org|43309 Sanders Pla...|    CZE|                CZE|06-13-2022 00:00:00|03-01-2023 14:33:21|     10.0|809d5048-b757-47b...|\n|  Heather|    Neal|wrightdouglas@sil...|1541 Diana Inlet\\...|    BRB|                BRB|06-29-2022 00:00:00|03-01-2023 00:35:54|      9.0|e766f7bd-047d-4f3...|\n|  Phyllis| Merritt|anthony68@greene-...|USS Meyers\\nFPO A...|    SVK|                SVK|09-10-2022 00:00:00|03-02-2023 03:52:18|      6.0|b6e0b13e-2ce3-423...|\n|   Tracey| Rollins|sandra94@gardner.com|Unit 8920 Box 782...|    DMA|                DMA|10-14-2022 00:00:00|03-01-2023 07:39:11|      9.0|7a2fe27e-33d8-466...|\n|  Jessica|   Blair|christopherhunt@b...|79982 Carey Glen\\...|    VEN|                VEN|08-28-2022 00:00:00|03-02-2023 11:13:52|      9.0|42d00a09-f0cb-481...|\n| Jennifer|    Ball|imartinez@lutz-si...|933 James Squares...|    NOR|                NOR|12-24-2021 00:00:00|03-01-2023 15:49:06|      1.0|321ab612-4a95-4d4...|\n|   Sherri|  Dunlap|xsmith@garcia-dud...|USNV Sanchez\\nFPO...|    TTO|                TTO|10-28-2021 00:00:00|03-01-2023 21:07:04|      2.0|2a617117-512e-49a...|\n|    Steve| Stevens|griffinmelissa@tr...|0090 Jennings Riv...|    ZMB|                ZMB|04-25-2022 00:00:00|03-02-2023 12:59:13|      9.0|6905af89-ca1e-4c4...|\n|  Michael|   Kelly|erikalopez@barnes...|95745 Gabriela Pl...|    GIN|                GIN|05-21-2022 00:00:00|03-01-2023 20:26:45|      8.0|34b57921-4c92-412...|\n| Brittney| Watkins|leejeffrey@ray-ph...|29817 Ryan Garden...|    SVN|                SVN|01-05-2023 00:00:00|03-01-2023 16:17:23|      4.0|cb509dfd-a002-4a1...|\n|     Gary| Jackson|hollyyoder@chambe...|0083 Thompson Fer...|    TTO|                TTO|08-27-2021 00:00:00|03-01-2023 20:47:40|      9.0|a2fab526-73bd-483...|\n|    Susan|     Ali|thomas51@sullivan...|29761 Mitchell Co...|    GRC|                GRC|09-14-2021 00:00:00|03-02-2023 06:56:34|      0.0|90d71957-c0ff-438...|\n|   Steven|  Murray|emilyking@alvarez...|536 Rose Stravenu...|    OMN|                OMN|04-11-2021 00:00:00|03-02-2023 01:29:54|      5.0|c9dbde55-3bb0-4fa...|\n|    Laura|   Hogan| chris96@hampton.com|381 Hays Shoal\\nK...|    DOM|                DOM|08-23-2021 00:00:00|03-02-2023 03:24:22|      1.0|a1aeab95-9161-425...|\n|  Charles|   Jones|xsimpson@gentry-b...|985 Smith Islands...|    STP|                STP|12-15-2022 00:00:00|03-02-2023 11:04:54|      1.0|70524175-eb35-496...|\n|  Matthew|  Cooper|kaitlynhull@power...|35557 Ward Turnpi...|    LKA|                LKA|02-01-2023 00:00:00|03-02-2023 10:20:14|      6.0|88064259-c2e7-46c...|\n+---------+--------+--------------------+--------------------+-------+-------------------+-------------------+-------------------+---------+--------------------+\nonly showing top 20 rows\n\n"
     ]
    }
   ],
   "source": [
    "# Showing written data\n",
    "banking_customers_df_output = spark.sql(\"SELECT * FROM silver.banking_customers\")\n",
    "banking_customers_df_output.show()"
   ]
  },
  {
   "cell_type": "code",
   "execution_count": 0,
   "metadata": {
    "application/vnd.databricks.v1+cell": {
     "cellMetadata": {
      "byteLimit": 2048000,
      "rowLimit": 10000
     },
     "inputWidgets": {},
     "nuid": "f01ade98-ed41-43af-baa3-9100e1d3fe30",
     "showTitle": false,
     "title": ""
    }
   },
   "outputs": [
    {
     "output_type": "stream",
     "name": "stdout",
     "output_type": "stream",
     "text": [
      "+--------------------+-----------+-----------+------------+--------+--------+\n|             country|alpha2_code|alpha3_code|numeric_code| lat_avg|long_avg|\n+--------------------+-----------+-----------+------------+--------+--------+\n|             country|alpha2_code|alpha3_code|        NULL|    NULL|    NULL|\n|               Aruba|         AW|        ABW|         533|    12.5|-69.9667|\n|         Afghanistan|         AF|        AFG|           4|    33.0|    65.0|\n|              Angola|         AO|        AGO|          24|   -12.5|    18.5|\n|            Anguilla|         AI|        AIA|         660|   18.25|-63.1667|\n|             Albania|         AL|        ALB|           8|    41.0|    20.0|\n|             Andorra|         AD|        AND|          20|    42.5|     1.6|\n|Netherlands Antilles|         AN|        ANT|         530|   12.25|  -68.75|\n|United Arab Emirates|         AE|        ARE|         784|    24.0|    54.0|\n|           Argentina|         AR|        ARG|          32|   -34.0|   -64.0|\n|             Armenia|         AM|        ARM|          51|    40.0|    45.0|\n|      American Samoa|         AS|        ASM|          16|-14.3333|  -170.0|\n|          Antarctica|         AQ|        ATA|          10|   -90.0|     0.0|\n|French Southern T...|         TF|        ATF|         260|   -43.0|    67.0|\n| Antigua and Barbuda|         AG|        ATG|          28|   17.05|   -61.8|\n|           Australia|         AU|        AUS|          36|   -27.0|   133.0|\n|             Austria|         AT|        AUT|          40| 47.3333| 13.3333|\n|          Azerbaijan|         AZ|        AZE|          31|    40.5|    47.5|\n|             Burundi|         BI|        BDI|         108|    -3.5|    30.0|\n|             Belgium|         BE|        BEL|          56| 50.8333|     4.0|\n+--------------------+-----------+-----------+------------+--------+--------+\nonly showing top 20 rows\n\n"
     ]
    }
   ],
   "source": [
    "# Showing written data\n",
    "country_coordinates_df_output = spark.sql(\"SELECT * FROM silver.country_coordinates\")\n",
    "country_coordinates_df_output.show()"
   ]
  },
  {
   "cell_type": "code",
   "execution_count": 0,
   "metadata": {
    "application/vnd.databricks.v1+cell": {
     "cellMetadata": {
      "byteLimit": 2048000,
      "rowLimit": 10000
     },
     "inputWidgets": {},
     "nuid": "868e003d-7028-4c0c-b88e-6b88f0d96efd",
     "showTitle": false,
     "title": ""
    }
   },
   "outputs": [
    {
     "output_type": "execute_result",
     "data": {
      "text/plain": [
       "DataFrame[]"
      ]
     },
     "execution_count": 80,
     "metadata": {},
     "output_type": "execute_result"
    }
   ],
   "source": [
    "# spark.sql(\"DROP SCHEMA IF EXISTS silver CASCADE\")"
   ]
  },
  {
   "cell_type": "code",
   "execution_count": 0,
   "metadata": {
    "application/vnd.databricks.v1+cell": {
     "cellMetadata": {
      "byteLimit": 2048000,
      "rowLimit": 10000
     },
     "inputWidgets": {},
     "nuid": "66b699f5-959b-4c62-b0e8-60d6e47e21ff",
     "showTitle": false,
     "title": ""
    }
   },
   "outputs": [],
   "source": [
    "# dbutils.fs.unmount(\"/mnt/frauddetection-etl\")"
   ]
  }
 ],
 "metadata": {
  "application/vnd.databricks.v1+notebook": {
   "dashboards": [],
   "environmentMetadata": null,
   "language": "python",
   "notebookMetadata": {
    "pythonIndentUnit": 4
   },
   "notebookName": "Silver Layer",
   "widgets": {}
  }
 },
 "nbformat": 4,
 "nbformat_minor": 0
}
