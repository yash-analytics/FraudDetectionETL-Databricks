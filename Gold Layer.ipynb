{
 "cells": [
  {
   "cell_type": "code",
   "execution_count": 0,
   "metadata": {
    "application/vnd.databricks.v1+cell": {
     "cellMetadata": {
      "byteLimit": 2048000,
      "rowLimit": 10000
     },
     "inputWidgets": {},
     "nuid": "8f55ddf8-32ed-4698-9429-38fd08bebd26",
     "showTitle": false,
     "title": ""
    }
   },
   "outputs": [],
   "source": [
    "from pyspark.sql import SparkSession\n",
    "from pyspark.sql.functions import col\n",
    "import urllib\n",
    "from pyspark.sql.functions import coalesce, expr, lit, col, regexp_replace, trim"
   ]
  },
  {
   "cell_type": "code",
   "execution_count": 0,
   "metadata": {
    "application/vnd.databricks.v1+cell": {
     "cellMetadata": {
      "byteLimit": 2048000,
      "rowLimit": 10000
     },
     "inputWidgets": {},
     "nuid": "fb8d7ce7-3b45-46fd-8b38-1ca57a42d77d",
     "showTitle": false,
     "title": ""
    }
   },
   "outputs": [],
   "source": [
    "# Initialize Spark Session \n",
    "\n",
    "spark = SparkSession.builder \\\n",
    "    .appName(\"Gold Layer\") \\\n",
    "    .getOrCreate()"
   ]
  },
  {
   "cell_type": "code",
   "execution_count": 0,
   "metadata": {
    "application/vnd.databricks.v1+cell": {
     "cellMetadata": {
      "byteLimit": 2048000,
      "rowLimit": 10000
     },
     "inputWidgets": {},
     "nuid": "440e3b1c-7af5-4420-9af2-d0721e74c1a9",
     "showTitle": false,
     "title": ""
    }
   },
   "outputs": [],
   "source": [
    "# ACCESS_KEY=dbutils.secrets.get(\"aws\", \"aws_access_key\")\n",
    "# SECRET_KEY= dbutils.secrets.get(\"aws\", \"aws_secret_access_key\")"
   ]
  },
  {
   "cell_type": "code",
   "execution_count": 0,
   "metadata": {
    "application/vnd.databricks.v1+cell": {
     "cellMetadata": {
      "byteLimit": 2048000,
      "rowLimit": 10000
     },
     "inputWidgets": {},
     "nuid": "dab4e914-dbe1-4b7d-a6ba-74313a5a87ad",
     "showTitle": false,
     "title": ""
    }
   },
   "outputs": [],
   "source": [
    "# ENCODED_SECRET_KEY = urllib.parse.quote(string=SECRET_KEY, safe=\"\")"
   ]
  },
  {
   "cell_type": "code",
   "execution_count": 0,
   "metadata": {
    "application/vnd.databricks.v1+cell": {
     "cellMetadata": {
      "byteLimit": 2048000,
      "rowLimit": 10000
     },
     "inputWidgets": {},
     "nuid": "0cf0c865-c86a-472c-b620-e9e5999d7707",
     "showTitle": false,
     "title": ""
    }
   },
   "outputs": [],
   "source": [
    "# AWS_S3_BUCKET = \"frauddetection-etl\"\n",
    "\n",
    "# # Mount name for the bucket\n",
    "# MOUNT_NAME = \"/mnt/frauddetection-etl\"\n",
    "# # Source url\n",
    "# SOURCE_URL = \"s3n://{0}:{1}@{2}\".format(ACCESS_KEY, ENCODED_SECRET_KEY, AWS_S3_BUCKET)\n",
    "# # Mount the drive\n",
    "# dbutils.fs.mount(SOURCE_URL, MOUNT_NAME)"
   ]
  },
  {
   "cell_type": "code",
   "execution_count": 0,
   "metadata": {
    "application/vnd.databricks.v1+cell": {
     "cellMetadata": {
      "byteLimit": 2048000,
      "rowLimit": 10000
     },
     "inputWidgets": {},
     "nuid": "4b4691f2-8294-4c88-a7e1-fe6ca09724f8",
     "showTitle": false,
     "title": ""
    }
   },
   "outputs": [],
   "source": [
    "# Set silver path\n",
    "GOLD_PATH = \"/mnt/frauddetection-etl/gold\""
   ]
  },
  {
   "cell_type": "code",
   "execution_count": 0,
   "metadata": {
    "application/vnd.databricks.v1+cell": {
     "cellMetadata": {
      "byteLimit": 2048000,
      "rowLimit": 10000
     },
     "inputWidgets": {},
     "nuid": "494be374-2df8-4fc7-b6d2-879b3386a729",
     "showTitle": false,
     "title": ""
    }
   },
   "outputs": [],
   "source": [
    "# Read the transactions data from the external table\n",
    "transactions_df = spark.sql(\"SELECT * FROM silver.transactions\")\n",
    "\n",
    "# Read the banking customers data from the external table\n",
    "banking_customers_df = spark.sql(\"SELECT * FROM silver.banking_customers\")\n",
    "\n",
    "# Read the country coordinates data from the external table\n",
    "country_coordinates_df = spark.sql(\"SELECT * FROM silver.country_coordinates\")"
   ]
  },
  {
   "cell_type": "code",
   "execution_count": 0,
   "metadata": {
    "application/vnd.databricks.v1+cell": {
     "cellMetadata": {
      "byteLimit": 2048000,
      "rowLimit": 10000
     },
     "inputWidgets": {},
     "nuid": "6a520070-cc68-4a95-99c9-c22560c8fee0",
     "showTitle": false,
     "title": ""
    }
   },
   "outputs": [],
   "source": [
    "# Data Transformation and Feature Engineering\n",
    "\n",
    "# Joining datasets\n",
    "gold_df = transactions_df \\\n",
    "    .join(banking_customers_df, transactions_df.customer_id == banking_customers_df.id, \"inner\") \\\n",
    "    .join(country_coordinates_df.alias(\"orig\"), col(\"countryOrig\") == col(\"orig.alpha3_code\"), \"left_outer\") \\\n",
    "    .join(country_coordinates_df.alias(\"dest\"), col(\"countryDest\") == col(\"dest.alpha3_code\"), \"left_outer\") \\\n",
    "    .select(\n",
    "        transactions_df[\"*\"],\n",
    "        banking_customers_df[\"firstname\"].alias(\"customer_firstname\"),\n",
    "        banking_customers_df[\"lastname\"].alias(\"customer_lastname\"),\n",
    "        coalesce(col(\"orig.country\"), lit(\"Unknown\")).alias(\"origin_country\"),\n",
    "        col(\"orig.lat_avg\").alias(\"origin_lat\"),\n",
    "        col(\"orig.long_avg\").alias(\"origin_long\"),\n",
    "        coalesce(col(\"dest.country\"), lit(\"Unknown\")).alias(\"destination_country\"),\n",
    "        col(\"dest.lat_avg\").alias(\"destination_lat\"),\n",
    "        col(\"dest.long_avg\").alias(\"destination_long\")\n",
    "    )"
   ]
  },
  {
   "cell_type": "code",
   "execution_count": 0,
   "metadata": {
    "application/vnd.databricks.v1+cell": {
     "cellMetadata": {
      "byteLimit": 2048000,
      "rowLimit": 10000
     },
     "inputWidgets": {},
     "nuid": "826e4cdb-84df-4dd5-adac-2dff05672f8b",
     "showTitle": false,
     "title": ""
    }
   },
   "outputs": [
    {
     "output_type": "execute_result",
     "data": {
      "text/plain": [
       "DataFrame[]"
      ]
     },
     "execution_count": 33,
     "metadata": {},
     "output_type": "execute_result"
    }
   ],
   "source": [
    "# Save cleaned data to Gold layer and create external tables\n",
    "\n",
    "gold_df.write.format(\"delta\").mode(\"append\").save(f\"{GOLD_PATH}/transactions\")\n",
    "\n",
    "# Register external tables\n",
    "spark.sql(\"CREATE SCHEMA IF NOT EXISTS gold\")\n",
    "\n",
    "# Set the current schema\n",
    "spark.sql(\"USE gold\")\n",
    "\n",
    "# Register the external table\n",
    "spark.sql(f\"\"\"\n",
    "CREATE EXTERNAL TABLE IF NOT EXISTS transactions\n",
    "USING delta\n",
    "LOCATION 's3://frauddetection-etl/gold/transactions'\n",
    "\"\"\")"
   ]
  },
  {
   "cell_type": "code",
   "execution_count": 0,
   "metadata": {
    "application/vnd.databricks.v1+cell": {
     "cellMetadata": {
      "byteLimit": 2048000,
      "rowLimit": 10000
     },
     "inputWidgets": {},
     "nuid": "586a67fe-12a9-4ae6-a4ff-c04a7ce652f3",
     "showTitle": false,
     "title": ""
    }
   },
   "outputs": [
    {
     "output_type": "stream",
     "name": "stdout",
     "output_type": "stream",
     "text": [
      "+--------------------+---------+-----------+-----------+--------------------+-----------------------+------------+-----------+--------------+--------------+--------------+--------------+----+--------+--------+------------------+-----------------+------------------+----------+-----------+-------------------+---------------+----------------+\n|                  id|   amount|countryDest|countryOrig|         customer_id|isUnauthorizedOverdraft|    nameDest|   nameOrig|newBalanceDest|newBalanceOrig|oldBalanceDest|oldBalanceOrig|step|    type|is_fraud|customer_firstname|customer_lastname|    origin_country|origin_lat|origin_long|destination_country|destination_lat|destination_long|\n+--------------------+---------+-----------+-----------+--------------------+-----------------------+------------+-----------+--------------+--------------+--------------+--------------+----+--------+--------+------------------+-----------------+------------------+----------+-----------+-------------------+---------------+----------------+\n|9db8db71-126b-4fe...| 10452.98|        REU|        REU|a0e67d95-b19d-487...|                      0| M3479766470|C9695372314|     363539.07|      67009.83|     353086.09|      77462.82| 146| PAYMENT|    NULL|           Jasmine|             Mann|           Réunion|     -21.1|       55.6|            Réunion|          -21.1|            55.6|\n|30f56e89-0e4e-4eb...| 11230.51|        BRA|        TUR|0796aa96-5c08-4d3...|                      0| M9181931898|C2700694787|    1314521.73|    1973961.84|    1303291.22|    1985192.36| 420| PAYMENT|    NULL|             Julia|          Manning|            Turkey|      39.0|       35.0|             Brazil|          -10.0|           -55.0|\n|1648df20-00d8-419...| 56785.09|        PER|        NGA|2be9f20b-bbea-4c9...|                      0| M0176036610|C3313804954|    1128137.15|    3212251.33|    1128137.15|    3155466.24| 397| CASH_IN|    NULL|             Danny|           Wilson|           Nigeria|      10.0|        8.0|               Peru|          -10.0|           -76.0|\n|a6196273-0fef-429...|138363.92|        ESP|        TUR|c0caba63-6417-4ae...|                      0|CC4051797577|C6163823071|    1623513.54|    2834179.85|    1485149.62|    2972543.77| 534|TRANSFER|    NULL|               Jon|             King|            Turkey|      39.0|       35.0|              Spain|           40.0|            -4.0|\n|8856e87d-5337-4bd...|  9964.49|        KHM|        ESP|86ad11b2-6078-4e0...|                      0| M6687722314|C6163823071|     311219.84|    2601554.43|     301255.35|    2611518.92| 120| PAYMENT|    NULL|          Jonathon|            Green|             Spain|      40.0|       -4.0|           Cambodia|           13.0|           105.0|\n|be439b33-31b9-44a...| 43024.06|        KHM|        PER|7d87e87b-8096-4d5...|                      0| M5839610521|C3818837772|    1558174.86|     2560863.2|    1558174.86|    2603887.26| 458|CASH_OUT|    NULL|            Victor|           Porter|              Peru|     -10.0|      -76.0|           Cambodia|           13.0|           105.0|\n|ba8a935d-5bad-4f2...| 206063.3|        ITA|        BRA|4c018f7d-fe58-40d...|                      0| M1252943667|C7608185327|     953701.78|    3800276.97|     953701.78|    3594213.67| 372| CASH_IN|    NULL|           Krystal|            Gibbs|            Brazil|     -10.0|      -55.0|              Italy|        42.8333|         12.8333|\n|b226e9ba-ca13-445...|143799.03|        ITA|        ITA|11427c68-cff8-445...|                      0| M0212355800|C8803063893|    1686344.27|    3120901.66|    1686344.27|    2977102.62| 458| CASH_IN|    NULL|             Roger|          Coleman|             Italy|   42.8333|    12.8333|              Italy|        42.8333|         12.8333|\n|386ea42a-80ef-4d4...|  2922.41|        QAT|        PAN|54bfe0a9-c541-4a4...|                      0| M9196520099|C5917719254|      873088.6|    2021895.04|     870166.19|    2024817.46| 303| PAYMENT|    NULL|              Erin|          Shelton|            Panama|       9.0|      -80.0|              Qatar|           25.5|           51.25|\n|3ab050ef-66a5-4ab...|    86.26|        REU|        CAN|582befb4-9d33-4fb...|                      0| M0382138230|C8081941004|      48211.31|    1134653.95|      48125.04|    1134740.21|  26| PAYMENT|    NULL|              Eric|            Moore|            Canada|      60.0|      -95.0|            Réunion|          -21.1|            55.6|\n|0364c38a-d607-41f...| 27326.29|        PER|        KHM|ba27d36a-62d7-462...|                      0| M3386355586|C0055519039|    1199676.92|    2921474.02|    1199676.92|    2894147.73| 404| CASH_IN|    NULL|             Kelly|           Carter|          Cambodia|      13.0|      105.0|               Peru|          -10.0|           -76.0|\n|569f40a2-a1a4-415...|240965.84|        RUS|        CAN|430f748f-895a-4e2...|                      0| M0376783400|C5751537590|     984381.16|    3093831.43|     984381.16|    2852865.59| 286| CASH_IN|    NULL|            Alexis|            Smith|            Canada|      60.0|      -95.0| Russian Federation|           60.0|           100.0|\n|9957b087-eb78-4e5...|120456.82|        RUS|        RUS|976ba8c1-8d96-4d9...|                      0| M7463627110|C6736438216|     674911.39|    2889104.87|     674911.39|    2768648.06| 263| CASH_IN|    NULL|           Michael|           Bailey|Russian Federation|      60.0|      100.0| Russian Federation|           60.0|           100.0|\n|7e5c115c-6734-49a...|259187.14|        NGA|        ESP|f0eed7bc-b1b5-49c...|                      0| M6763784564|C9058554966|    1807345.06|    3337168.54|    1807345.06|    3596355.68| 540|CASH_OUT|    NULL|         Stephanie|            Crane|             Spain|      40.0|       -4.0|            Nigeria|           10.0|             8.0|\n|2092218c-c58f-476...|   9274.5|        KHM|        KHM|0216535f-58bb-4ae...|                      0| M6699019483|C5398111362|     233284.74|     3129833.6|     224010.25|     3139108.1| 136| PAYMENT|    NULL|           Timothy|            Olson|          Cambodia|      13.0|      105.0|           Cambodia|           13.0|           105.0|\n|8fc33910-ec0d-4e8...|126198.76|        ITA|        ESP|34ad12d6-0e96-47c...|                      0| M4177241246|C1414225079|     295148.43|    3778386.57|     295148.43|    3652187.81| 146| CASH_IN|    NULL|           Stephen|           Bryant|             Spain|      40.0|       -4.0|              Italy|        42.8333|         12.8333|\n|6f2a3785-9ab4-4e7...|  6015.84|        RUS|        REU|af52d55b-2b8b-444...|                      0| M6990018873|C8143431685|    1869194.46|    2476538.76|    1863178.62|     2482554.6| 527| PAYMENT|    NULL|             Holly|            Lyons|           Réunion|     -21.1|       55.6| Russian Federation|           60.0|           100.0|\n|1826ffe4-dfda-46d...| 117470.2|        REU|        TUR|7bbc9460-061b-444...|                      0| C3189790757|C0545294868|    2738892.33|    3378654.57|    2621422.13|    3496124.77| 540|TRANSFER|    NULL|             Scott|         Gonzales|            Turkey|      39.0|       35.0|            Réunion|          -21.1|            55.6|\n|fd7d5bad-0af5-409...|  37147.7|        ESP|        BRA|e1836506-9fd0-4aa...|                      0| M3007137876|C2595471818|     688112.64|    1645744.24|     688112.64|    1608596.54| 236| CASH_IN|    NULL|           Shannon|            Hayes|            Brazil|     -10.0|      -55.0|              Spain|           40.0|            -4.0|\n|5cf4caa4-8926-41a...|132118.69|        QAT|        PAN|82bc2ab0-278a-433...|                      0| M6179205089|C4357151101|     786388.28|    1977389.61|     786388.28|    1845270.92| 304| CASH_IN|    NULL|          Danielle|           Little|            Panama|       9.0|      -80.0|              Qatar|           25.5|           51.25|\n+--------------------+---------+-----------+-----------+--------------------+-----------------------+------------+-----------+--------------+--------------+--------------+--------------+----+--------+--------+------------------+-----------------+------------------+----------+-----------+-------------------+---------------+----------------+\nonly showing top 20 rows\n\n"
     ]
    }
   ],
   "source": [
    "# Showing written data\n",
    "transactions_df_output = spark.sql(\"SELECT * FROM gold.transactions\")\n",
    "transactions_df_output.show()"
   ]
  },
  {
   "cell_type": "code",
   "execution_count": 0,
   "metadata": {
    "application/vnd.databricks.v1+cell": {
     "cellMetadata": {
      "byteLimit": 2048000,
      "rowLimit": 10000
     },
     "inputWidgets": {},
     "nuid": "010bd2ee-79c8-4caa-88ef-daaf18de8d2b",
     "showTitle": false,
     "title": ""
    }
   },
   "outputs": [
    {
     "output_type": "execute_result",
     "data": {
      "text/plain": [
       "DataFrame[]"
      ]
     },
     "execution_count": 38,
     "metadata": {},
     "output_type": "execute_result"
    }
   ],
   "source": [
    "# spark.sql(\"DROP SCHEMA IF EXISTS gold CASCADE\")"
   ]
  },
  {
   "cell_type": "code",
   "execution_count": 0,
   "metadata": {
    "application/vnd.databricks.v1+cell": {
     "cellMetadata": {
      "byteLimit": 2048000,
      "rowLimit": 10000
     },
     "inputWidgets": {},
     "nuid": "31d7653c-f7cb-4bc4-83c7-261fd5a4ed21",
     "showTitle": false,
     "title": ""
    }
   },
   "outputs": [
    {
     "output_type": "stream",
     "name": "stdout",
     "output_type": "stream",
     "text": [
      "/mnt/frauddetection-etl has been unmounted.\n"
     ]
    },
    {
     "output_type": "execute_result",
     "data": {
      "text/plain": [
       "True"
      ]
     },
     "execution_count": 37,
     "metadata": {},
     "output_type": "execute_result"
    }
   ],
   "source": [
    "dbutils.fs.unmount(\"/mnt/frauddetection-etl\")"
   ]
  }
 ],
 "metadata": {
  "application/vnd.databricks.v1+notebook": {
   "dashboards": [],
   "environmentMetadata": null,
   "language": "python",
   "notebookMetadata": {
    "pythonIndentUnit": 4
   },
   "notebookName": "Gold Layer",
   "widgets": {}
  }
 },
 "nbformat": 4,
 "nbformat_minor": 0
}
